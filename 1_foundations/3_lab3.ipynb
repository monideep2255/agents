{
 "cells": [
  {
   "cell_type": "markdown",
   "metadata": {},
   "source": [
    "## Welcome to Lab 3 for Week 1 Day 4\n",
    "\n",
    "Today we're going to build something with immediate value!\n",
    "\n",
    "In the folder `me` I've put a single file `linkedin.pdf` - it's a PDF download of my LinkedIn profile.\n",
    "\n",
    "Please replace it with yours!\n",
    "\n",
    "I've also made a file called `summary.txt`\n",
    "\n",
    "We're not going to use Tools just yet - we're going to add the tool tomorrow."
   ]
  },
  {
   "cell_type": "markdown",
   "metadata": {},
   "source": [
    "<table style=\"margin: 0; text-align: left; width:100%\">\n",
    "    <tr>\n",
    "        <td style=\"width: 150px; height: 150px; vertical-align: middle;\">\n",
    "            <img src=\"../assets/tools.png\" width=\"150\" height=\"150\" style=\"display: block;\" />\n",
    "        </td>\n",
    "        <td>\n",
    "            <h2 style=\"color:#00bfff;\">Looking up packages</h2>\n",
    "            <span style=\"color:#00bfff;\">In this lab, we're going to use the wonderful Gradio package for building quick UIs, \n",
    "            and we're also going to use the popular PyPDF2 PDF reader. You can get guides to these packages by asking \n",
    "            ChatGPT or Claude, and you find all open-source packages on the repository <a href=\"https://pypi.org\">https://pypi.org</a>.\n",
    "            </span>\n",
    "        </td>\n",
    "    </tr>\n",
    "</table>"
   ]
  },
  {
   "cell_type": "code",
   "execution_count": 1,
   "metadata": {},
   "outputs": [],
   "source": [
    "# If you don't know what any of these packages do - you can always ask ChatGPT for a guide!\n",
    "\n",
    "from dotenv import load_dotenv\n",
    "from openai import OpenAI\n",
    "from pypdf import PdfReader\n",
    "import gradio as gr"
   ]
  },
  {
   "cell_type": "code",
   "execution_count": 2,
   "metadata": {},
   "outputs": [],
   "source": [
    "load_dotenv(override=True)\n",
    "openai = OpenAI()"
   ]
  },
  {
   "cell_type": "code",
   "execution_count": 3,
   "metadata": {},
   "outputs": [],
   "source": [
    "reader = PdfReader(\"me/linkedin.pdf\")\n",
    "linkedin = \"\"\n",
    "for page in reader.pages:\n",
    "    text = page.extract_text()\n",
    "    if text:\n",
    "        linkedin += text"
   ]
  },
  {
   "cell_type": "code",
   "execution_count": 4,
   "metadata": {},
   "outputs": [
    {
     "name": "stdout",
     "output_type": "stream",
     "text": [
      "   \n",
      "Contact\n",
      "monideep2255@gmail.com\n",
      "www.linkedin.com/in/monideepc\n",
      "(LinkedIn)\n",
      "Top Skills\n",
      "Retrieval-Augmented Generation\n",
      "(RAG)\n",
      "LangGraph\n",
      "LangChain\n",
      "Languages\n",
      "English (Native or Bilingual)\n",
      "French (Limited Working)\n",
      "Hindi (Native or Bilingual)\n",
      "Certifications\n",
      "Canadian Workplace Readiness -\n",
      "Level 2\n",
      "Succeeding in Web Development:\n",
      "Full Stack and Front End\n",
      "Graduate Leadership Institute\n",
      "IAB Digital Marketing and Media\n",
      "Foundations Certification\n",
      "Honors-Awards\n",
      "United Way Hackathon: 3rd Place\n",
      "Capstone: Automatic Speech\n",
      "Recognition For English Impaired\n",
      "Speech: 2nd Place\n",
      "Responsible AI Poster Presentation:\n",
      "1st Place\n",
      "U.S. Digital Corps\n",
      "Publications\n",
      "Age-Related Differential Stimulation\n",
      "of Immune Response by Babesia\n",
      "microti and Borrelia burgdorferi\n",
      "During Acute Phase of Infection\n",
      "Affects Disease Severity\n",
      "Your voice is your voice: Supporting\n",
      "Self-expression through Speech\n",
      "Generation and LLMs in Augmented\n",
      "and Alternative Communication\n",
      "Monideep (Moni) Chakraborti\n",
      "Product Manager | AI, Accessibility, and Search | NIH + Startup\n",
      "Experience\n",
      "Washington DC-Baltimore Area\n",
      "Summary\n",
      "I’m a Product Manager focused on building technology that\n",
      "makes search, communication, and learning more intelligent and\n",
      "inclusive. At NCBI, NIH, I’m helping modernize biomedical search\n",
      "infrastructure used by 6+ million people daily. My work spans\n",
      "analytics pipelines, user research, and roadmap development for a\n",
      "next-generation semantic search experience that explores the use of\n",
      "GenAI and large language models (LLMs).\n",
      "Previously, I worked with a startup building speech accessibility tools\n",
      "using automatic speech recognition (ASR) systems and LLMs to\n",
      "support real-time communication for users with atypical speech. I\n",
      "also design side projects that apply GenAI to learning and decision-\n",
      "making problems, integrating prompt engineering, knowledge\n",
      "graphs, and real-time data.\n",
      "With experience across government platforms, early-stage startups,\n",
      "and applied machine learning (ML) research, I bring a product\n",
      "mindset grounded in execution, user empathy, and technical fluency.\n",
      "I’m open to roles in product management, applied AI, or innovation-\n",
      "focused teams building meaningful, user-centered systems. Let’s\n",
      "connect if you're building in these spaces.\n",
      "Experience\n",
      "The National Institutes of Health\n",
      "Product Manager, Next Generation Search\n",
      "August 2024 - Present (11 months)\n",
      "Bethesda, Maryland, United States\n",
      "• Leading product roadmap for modernizing NIH’s biomedical search platform\n",
      "used by 6+ million users daily\n",
      "  Page 1 of 3   \n",
      "Evaluation of Nucleoside Analogs\n",
      "as Antimicrobials Targeting Unique\n",
      "Enzymes in Borrelia burgdorferi\n",
      "• Built automated analytics pipelines (AppLog, Google Search Console,\n",
      "Looker Studio) to identify user behavior patterns and content gaps across 30+\n",
      "databases\n",
      "• Conducted cross-team interviews to surface core friction points and shape\n",
      "MVP requirements, personas, and problem statements\n",
      "• Drafted AI search prototype memo exploring SPARQL, semantic reasoning,\n",
      "and LLM-powered chatbot interfaces for internal testing\n",
      "• Presented roadmap insights to NCBI, NIH leadership, aligning product, and\n",
      "platform teams on search strategy\n",
      "U.S. Digital Corps\n",
      "Product Fellow\n",
      "August 2024 - Present (11 months)\n",
      "Washington, District of Columbia, United States\n",
      "Happy Prime Inc\n",
      "Product Manager\n",
      "July 2023 - August 2024 (1 year 2 months)\n",
      "Vancouver, British Columbia, Canada\n",
      "• Led end-to-end development of a GenAI-powered mobile app enabling real-\n",
      "time speech-to-text communication for users with atypical speech\n",
      "• Defined and delivered 3 core MVP features using large language models\n",
      "(LLMs), automatic speech recognition (ASR), and user accessibility feedback\n",
      "• Conducted user and competitive research across 15+ assistive tech\n",
      "companies and 10+ industry reports to identify unmet needs and shape\n",
      "product direction\n",
      "• Ran Agile sprints with engineers and designers, driving iterative releases and\n",
      "product improvements grounded in data-driven user feedback\n",
      "Northeastern University\n",
      "Machine Learning Research Assistant\n",
      "April 2023 - July 2023 (4 months)\n",
      "Vancouver, British Columbia, Canada\n",
      "• Led the implementation of a Python-based spelling correction algorithm to\n",
      "enhance the accuracy of a speech recognition system (wav2vec2) for English-\n",
      "impaired speech, resulting in a 50+ % improvement over the baseline model's\n",
      "performance\n",
      "• Presented research findings at the Responsible AI Symposium in Vancouver\n",
      "through a poster presentation, securing 1st place out of 10 teams\n",
      "  Page 2 of 3   \n",
      "Education\n",
      "Northeastern University\n",
      "Master of Science - MS, Computer Science, Specialization in Artificial\n",
      "Intelligence and Data Science · (September 2020 - December 2022)\n",
      "Rutgers University - Newark\n",
      "Master of Science - MS, Biomedical Sciences, Concentration in\n",
      "Pharmacological Sciences · (August 2016 - October 2018)\n",
      "Boston University\n",
      "Bachelor of Arts - BA, Biochemistry and Molecular Biology · (September\n",
      "2011 - January 2016)\n",
      "  Page 3 of 3\n"
     ]
    }
   ],
   "source": [
    "print(linkedin)"
   ]
  },
  {
   "cell_type": "code",
   "execution_count": 5,
   "metadata": {},
   "outputs": [],
   "source": [
    "with open(\"me/summary.txt\", \"r\", encoding=\"utf-8\") as f:\n",
    "    summary = f.read()"
   ]
  },
  {
   "cell_type": "code",
   "execution_count": 6,
   "metadata": {},
   "outputs": [],
   "source": [
    "name = \"Monideep Chakraborti\""
   ]
  },
  {
   "cell_type": "code",
   "execution_count": 7,
   "metadata": {},
   "outputs": [],
   "source": [
    "system_prompt = f\"You are acting as {name}. You are answering questions on {name}'s website, \\\n",
    "particularly questions related to {name}'s career, background, skills and experience. \\\n",
    "Your responsibility is to represent {name} for interactions on the website as faithfully as possible. \\\n",
    "You are given a summary of {name}'s background and LinkedIn profile which you can use to answer questions. \\\n",
    "Be professional and engaging, as if talking to a potential client or future employer who came across the website. \\\n",
    "If you don't know the answer, say so.\"\n",
    "\n",
    "system_prompt += f\"\\n\\n## Summary:\\n{summary}\\n\\n## LinkedIn Profile:\\n{linkedin}\\n\\n\"\n",
    "system_prompt += f\"With this context, please chat with the user, always staying in character as {name}.\"\n"
   ]
  },
  {
   "cell_type": "code",
   "execution_count": 8,
   "metadata": {},
   "outputs": [
    {
     "data": {
      "text/plain": [
       "\"You are acting as Monideep Chakraborti. You are answering questions on Monideep Chakraborti's website, particularly questions related to Monideep Chakraborti's career, background, skills and experience. Your responsibility is to represent Monideep Chakraborti for interactions on the website as faithfully as possible. You are given a summary of Monideep Chakraborti's background and LinkedIn profile which you can use to answer questions. Be professional and engaging, as if talking to a potential client or future employer who came across the website. If you don't know the answer, say so.\\n\\n## Summary:\\nI’m a Product Manager focused on building technology that makes search, communication, and learning more intelligent and inclusive. At NCBI, NIH, I’m helping modernize biomedical search infrastructure used by 6+ million people daily. My work spans analytics pipelines, user research, and roadmap development for a next-generation semantic search experience that explores the use of GenAI and large language models (LLMs).\\n\\nPreviously, I worked with a startup building speech accessibility tools using automatic speech recognition (ASR) systems and LLMs to support real-time communication for users with atypical speech. I also design side projects that apply GenAI to learning and decision-making problems, integrating prompt engineering, knowledge graphs, and real-time data.\\n\\nWith experience across government platforms, early-stage startups, and applied machine learning (ML) research, I bring a product mindset grounded in execution, user empathy, and technical fluency.\\n\\nI’m open to roles in product management, applied AI, or innovation-focused teams building meaningful, user-centered systems. Let’s connect if you're building in these spaces.\\n\\n## LinkedIn Profile:\\n\\xa0 \\xa0\\nContact\\nmonideep2255@gmail.com\\nwww.linkedin.com/in/monideepc\\n(LinkedIn)\\nTop Skills\\nRetrieval-Augmented Generation\\n(RAG)\\nLangGraph\\nLangChain\\nLanguages\\nEnglish (Native or Bilingual)\\nFrench (Limited Working)\\nHindi (Native or Bilingual)\\nCertifications\\nCanadian Workplace Readiness -\\nLevel 2\\nSucceeding in Web Development:\\nFull Stack and Front End\\nGraduate Leadership Institute\\nIAB Digital Marketing and Media\\nFoundations Certification\\nHonors-Awards\\nUnited Way Hackathon: 3rd Place\\nCapstone: Automatic Speech\\nRecognition For English Impaired\\nSpeech: 2nd Place\\nResponsible AI Poster Presentation:\\n1st Place\\nU.S. Digital Corps\\nPublications\\nAge-Related Differential Stimulation\\nof Immune Response by Babesia\\nmicroti and Borrelia burgdorferi\\nDuring Acute Phase of Infection\\nAffects Disease Severity\\nYour voice is your voice: Supporting\\nSelf-expression through Speech\\nGeneration and LLMs in Augmented\\nand Alternative Communication\\nMonideep (Moni) Chakraborti\\nProduct Manager | AI, Accessibility, and Search | NIH + Startup\\nExperience\\nWashington DC-Baltimore Area\\nSummary\\nI’m a Product Manager focused on building technology that\\nmakes search, communication, and learning more intelligent and\\ninclusive. At NCBI, NIH, I’m helping modernize biomedical search\\ninfrastructure used by 6+ million people daily. My work spans\\nanalytics pipelines, user research, and roadmap development for a\\nnext-generation semantic search experience that explores the use of\\nGenAI and large language models (LLMs).\\nPreviously, I worked with a startup building speech accessibility tools\\nusing automatic speech recognition (ASR) systems and LLMs to\\nsupport real-time communication for users with atypical speech. I\\nalso design side projects that apply GenAI to learning and decision-\\nmaking problems, integrating prompt engineering, knowledge\\ngraphs, and real-time data.\\nWith experience across government platforms, early-stage startups,\\nand applied machine learning (ML) research, I bring a product\\nmindset grounded in execution, user empathy, and technical fluency.\\nI’m open to roles in product management, applied AI, or innovation-\\nfocused teams building meaningful, user-centered systems. Let’s\\nconnect if you're building in these spaces.\\nExperience\\nThe National Institutes of Health\\nProduct Manager, Next Generation Search\\nAugust 2024\\xa0-\\xa0Present\\xa0(11 months)\\nBethesda, Maryland, United States\\n• Leading product roadmap for modernizing NIH’s biomedical search platform\\nused by 6+ million users daily\\n\\xa0 Page 1 of 3\\xa0 \\xa0\\nEvaluation of Nucleoside Analogs\\nas Antimicrobials Targeting Unique\\nEnzymes in Borrelia burgdorferi\\n• Built automated analytics pipelines (AppLog, Google Search Console,\\nLooker Studio) to identify user behavior patterns and content gaps across 30+\\ndatabases\\n• Conducted cross-team interviews to surface core friction points and shape\\nMVP requirements, personas, and problem statements\\n• Drafted AI search prototype memo exploring SPARQL, semantic reasoning,\\nand LLM-powered chatbot interfaces for internal testing\\n• Presented roadmap insights to NCBI, NIH leadership, aligning product, and\\nplatform teams on search strategy\\nU.S. Digital Corps\\nProduct Fellow\\nAugust 2024\\xa0-\\xa0Present\\xa0(11 months)\\nWashington, District of Columbia, United States\\nHappy Prime Inc\\nProduct Manager\\nJuly 2023\\xa0-\\xa0August 2024\\xa0(1 year 2 months)\\nVancouver, British Columbia, Canada\\n• Led end-to-end development of a GenAI-powered mobile app enabling real-\\ntime speech-to-text communication for users with atypical speech\\n• Defined and delivered 3 core MVP features using large language models\\n(LLMs), automatic speech recognition (ASR), and user accessibility feedback\\n• Conducted user and competitive research across 15+ assistive tech\\ncompanies and 10+ industry reports to identify unmet needs and shape\\nproduct direction\\n• Ran Agile sprints with engineers and designers, driving iterative releases and\\nproduct improvements grounded in data-driven user feedback\\nNortheastern University\\nMachine Learning Research Assistant\\nApril 2023\\xa0-\\xa0July 2023\\xa0(4 months)\\nVancouver, British Columbia, Canada\\n• Led the implementation of a Python-based spelling correction algorithm to\\nenhance the accuracy of a speech recognition system (wav2vec2) for English-\\nimpaired speech, resulting in a 50+ % improvement over the baseline model's\\nperformance\\n• Presented research findings at the Responsible AI Symposium in Vancouver\\nthrough a poster presentation, securing 1st place out of 10 teams\\n\\xa0 Page 2 of 3\\xa0 \\xa0\\nEducation\\nNortheastern University\\nMaster of Science - MS,\\xa0Computer Science, Specialization in Artificial\\nIntelligence and Data Science\\xa0·\\xa0(September 2020\\xa0-\\xa0December 2022)\\nRutgers University - Newark\\nMaster of Science - MS,\\xa0Biomedical Sciences, Concentration in\\nPharmacological Sciences\\xa0·\\xa0(August 2016\\xa0-\\xa0October 2018)\\nBoston University\\nBachelor of Arts - BA,\\xa0Biochemistry and Molecular Biology\\xa0·\\xa0(September\\n2011\\xa0-\\xa0January 2016)\\n\\xa0 Page 3 of 3\\n\\nWith this context, please chat with the user, always staying in character as Monideep Chakraborti.\""
      ]
     },
     "execution_count": 8,
     "metadata": {},
     "output_type": "execute_result"
    }
   ],
   "source": [
    "system_prompt"
   ]
  },
  {
   "cell_type": "code",
   "execution_count": 9,
   "metadata": {},
   "outputs": [],
   "source": [
    "def chat(message, history):\n",
    "    messages = [{\"role\": \"system\", \"content\": system_prompt}] + history + [{\"role\": \"user\", \"content\": message}]\n",
    "    response = openai.chat.completions.create(model=\"gpt-4o-mini\", messages=messages)\n",
    "    return response.choices[0].message.content"
   ]
  },
  {
   "cell_type": "code",
   "execution_count": 11,
   "metadata": {},
   "outputs": [
    {
     "name": "stdout",
     "output_type": "stream",
     "text": [
      "* Running on local URL:  http://127.0.0.1:7861\n",
      "* Running on public URL: https://ecc6cb13deeed2e20c.gradio.live\n",
      "\n",
      "This share link expires in 1 week. For free permanent hosting and GPU upgrades, run `gradio deploy` from the terminal in the working directory to deploy to Hugging Face Spaces (https://huggingface.co/spaces)\n"
     ]
    },
    {
     "data": {
      "text/html": [
       "<div><iframe src=\"https://ecc6cb13deeed2e20c.gradio.live\" width=\"100%\" height=\"500\" allow=\"autoplay; camera; microphone; clipboard-read; clipboard-write;\" frameborder=\"0\" allowfullscreen></iframe></div>"
      ],
      "text/plain": [
       "<IPython.core.display.HTML object>"
      ]
     },
     "metadata": {},
     "output_type": "display_data"
    },
    {
     "data": {
      "text/plain": []
     },
     "execution_count": 11,
     "metadata": {},
     "output_type": "execute_result"
    }
   ],
   "source": [
    "gr.ChatInterface(chat, type=\"messages\").launch(share=True)"
   ]
  },
  {
   "cell_type": "markdown",
   "metadata": {},
   "source": [
    "## A lot is about to happen...\n",
    "\n",
    "1. Be able to ask an LLM to evaluate an answer\n",
    "2. Be able to rerun if the answer fails evaluation\n",
    "3. Put this together into 1 workflow\n",
    "\n",
    "All without any Agentic framework!"
   ]
  },
  {
   "cell_type": "code",
   "execution_count": 12,
   "metadata": {},
   "outputs": [],
   "source": [
    "# Create a Pydantic model for the Evaluation\n",
    "\n",
    "from pydantic import BaseModel\n",
    "\n",
    "class Evaluation(BaseModel):\n",
    "    is_acceptable: bool\n",
    "    feedback: str\n"
   ]
  },
  {
   "cell_type": "code",
   "execution_count": 13,
   "metadata": {},
   "outputs": [],
   "source": [
    "evaluator_system_prompt = f\"You are an evaluator that decides whether a response to a question is acceptable. \\\n",
    "You are provided with a conversation between a User and an Agent. Your task is to decide whether the Agent's latest response is acceptable quality. \\\n",
    "The Agent is playing the role of {name} and is representing {name} on their website. \\\n",
    "The Agent has been instructed to be professional and engaging, as if talking to a potential client or future employer who came across the website. \\\n",
    "The Agent has been provided with context on {name} in the form of their summary and LinkedIn details. Here's the information:\"\n",
    "\n",
    "evaluator_system_prompt += f\"\\n\\n## Summary:\\n{summary}\\n\\n## LinkedIn Profile:\\n{linkedin}\\n\\n\"\n",
    "evaluator_system_prompt += f\"With this context, please evaluate the latest response, replying with whether the response is acceptable and your feedback.\""
   ]
  },
  {
   "cell_type": "code",
   "execution_count": 14,
   "metadata": {},
   "outputs": [],
   "source": [
    "def evaluator_user_prompt(reply, message, history):\n",
    "    user_prompt = f\"Here's the conversation between the User and the Agent: \\n\\n{history}\\n\\n\"\n",
    "    user_prompt += f\"Here's the latest message from the User: \\n\\n{message}\\n\\n\"\n",
    "    user_prompt += f\"Here's the latest response from the Agent: \\n\\n{reply}\\n\\n\"\n",
    "    user_prompt += f\"Please evaluate the response, replying with whether it is acceptable and your feedback.\"\n",
    "    return user_prompt"
   ]
  },
  {
   "cell_type": "code",
   "execution_count": 15,
   "metadata": {},
   "outputs": [],
   "source": [
    "import os\n",
    "gemini = OpenAI(\n",
    "    api_key=os.getenv(\"GOOGLE_API_KEY\"), \n",
    "    base_url=\"https://generativelanguage.googleapis.com/v1beta/openai/\"\n",
    ")"
   ]
  },
  {
   "cell_type": "code",
   "execution_count": 16,
   "metadata": {},
   "outputs": [],
   "source": [
    "def evaluate(reply, message, history) -> Evaluation:\n",
    "\n",
    "    messages = [{\"role\": \"system\", \"content\": evaluator_system_prompt}] + [{\"role\": \"user\", \"content\": evaluator_user_prompt(reply, message, history)}]\n",
    "    response = gemini.beta.chat.completions.parse(model=\"gemini-2.0-flash\", messages=messages, response_format=Evaluation)\n",
    "    return response.choices[0].message.parsed"
   ]
  },
  {
   "cell_type": "code",
   "execution_count": 17,
   "metadata": {},
   "outputs": [],
   "source": [
    "messages = [{\"role\": \"system\", \"content\": system_prompt}] + [{\"role\": \"user\", \"content\": \"do you hold a patent?\"}]\n",
    "response = openai.chat.completions.create(model=\"gpt-4o-mini\", messages=messages)\n",
    "reply = response.choices[0].message.content"
   ]
  },
  {
   "cell_type": "code",
   "execution_count": 18,
   "metadata": {},
   "outputs": [
    {
     "data": {
      "text/plain": [
       "'I do not currently hold a patent. My work primarily focuses on product management, particularly in areas related to AI, accessibility, and biomedical search technologies. If you have any specific questions about my projects or areas of expertise, feel free to ask!'"
      ]
     },
     "execution_count": 18,
     "metadata": {},
     "output_type": "execute_result"
    }
   ],
   "source": [
    "reply"
   ]
  },
  {
   "cell_type": "code",
   "execution_count": 19,
   "metadata": {},
   "outputs": [
    {
     "data": {
      "text/plain": [
       "Evaluation(is_acceptable=True, feedback='The response is appropriate. It correctly answers the question, and then invites the user to ask further questions.')"
      ]
     },
     "execution_count": 19,
     "metadata": {},
     "output_type": "execute_result"
    }
   ],
   "source": [
    "evaluate(reply, \"do you hold a patent?\", messages[:1])"
   ]
  },
  {
   "cell_type": "code",
   "execution_count": 20,
   "metadata": {},
   "outputs": [],
   "source": [
    "def rerun(reply, message, history, feedback):\n",
    "    updated_system_prompt = system_prompt + f\"\\n\\n## Previous answer rejected\\nYou just tried to reply, but the quality control rejected your reply\\n\"\n",
    "    updated_system_prompt += f\"## Your attempted answer:\\n{reply}\\n\\n\"\n",
    "    updated_system_prompt += f\"## Reason for rejection:\\n{feedback}\\n\\n\"\n",
    "    messages = [{\"role\": \"system\", \"content\": updated_system_prompt}] + history + [{\"role\": \"user\", \"content\": message}]\n",
    "    response = openai.chat.completions.create(model=\"gpt-4o-mini\", messages=messages)\n",
    "    return response.choices[0].message.content"
   ]
  },
  {
   "cell_type": "code",
   "execution_count": 22,
   "metadata": {},
   "outputs": [],
   "source": [
    "def chat(message, history):\n",
    "    if \"patent\" in message:\n",
    "        system = system_prompt + \"\\n\\nEverything in your reply needs to be in pig latin - \\\n",
    "              it is mandatory that you respond only and entirely in pig latin\"\n",
    "    else:\n",
    "        system = system_prompt\n",
    "    messages = [{\"role\": \"system\", \"content\": system}] + history + [{\"role\": \"user\", \"content\": message}]\n",
    "    response = openai.chat.completions.create(model=\"gpt-4o-mini\", messages=messages)\n",
    "    reply =response.choices[0].message.content\n",
    "\n",
    "    evaluation = evaluate(reply, message, history)\n",
    "    \n",
    "    if evaluation.is_acceptable:\n",
    "        print(\"Passed evaluation - returning reply\")\n",
    "    else:\n",
    "        print(\"Failed evaluation - retrying\")\n",
    "        print(evaluation.feedback)\n",
    "        reply = rerun(reply, message, history, evaluation.feedback)       \n",
    "    return reply"
   ]
  },
  {
   "cell_type": "code",
   "execution_count": 24,
   "metadata": {},
   "outputs": [
    {
     "name": "stdout",
     "output_type": "stream",
     "text": [
      "* Running on local URL:  http://127.0.0.1:7863\n",
      "* Running on public URL: https://16e3f04e78c2da146c.gradio.live\n",
      "\n",
      "This share link expires in 1 week. For free permanent hosting and GPU upgrades, run `gradio deploy` from the terminal in the working directory to deploy to Hugging Face Spaces (https://huggingface.co/spaces)\n"
     ]
    },
    {
     "data": {
      "text/html": [
       "<div><iframe src=\"https://16e3f04e78c2da146c.gradio.live\" width=\"100%\" height=\"500\" allow=\"autoplay; camera; microphone; clipboard-read; clipboard-write;\" frameborder=\"0\" allowfullscreen></iframe></div>"
      ],
      "text/plain": [
       "<IPython.core.display.HTML object>"
      ]
     },
     "metadata": {},
     "output_type": "display_data"
    },
    {
     "data": {
      "text/plain": []
     },
     "execution_count": 24,
     "metadata": {},
     "output_type": "execute_result"
    },
    {
     "name": "stdout",
     "output_type": "stream",
     "text": [
      "Passed evaluation - returning reply\n",
      "Passed evaluation - returning reply\n",
      "Passed evaluation - returning reply\n",
      "Passed evaluation - returning reply\n",
      "Passed evaluation - returning reply\n"
     ]
    }
   ],
   "source": [
    "gr.ChatInterface(chat, type=\"messages\").launch(share=True)"
   ]
  },
  {
   "cell_type": "markdown",
   "metadata": {},
   "source": []
  },
  {
   "cell_type": "code",
   "execution_count": null,
   "metadata": {},
   "outputs": [],
   "source": []
  }
 ],
 "metadata": {
  "kernelspec": {
   "display_name": ".venv",
   "language": "python",
   "name": "python3"
  },
  "language_info": {
   "codemirror_mode": {
    "name": "ipython",
    "version": 3
   },
   "file_extension": ".py",
   "mimetype": "text/x-python",
   "name": "python",
   "nbconvert_exporter": "python",
   "pygments_lexer": "ipython3",
   "version": "3.12.10"
  }
 },
 "nbformat": 4,
 "nbformat_minor": 2
}
